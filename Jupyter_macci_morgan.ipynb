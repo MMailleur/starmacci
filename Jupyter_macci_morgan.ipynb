{
 "cells": [
  {
   "cell_type": "code",
   "execution_count": 2,
   "id": "8b2b772d",
   "metadata": {},
   "outputs": [],
   "source": [
    "import requests\n",
    "import pandas as pd "
   ]
  },
  {
   "cell_type": "code",
   "execution_count": 8,
   "id": "18a69486",
   "metadata": {},
   "outputs": [],
   "source": [
    "def urlname(str):\n",
    "    url = requests.get(\"https://swapi.dev/api/\" + str)\n",
    "    return url "
   ]
  },
  {
   "cell_type": "code",
   "execution_count": 9,
   "id": "6e20d506",
   "metadata": {},
   "outputs": [
    {
     "data": {
      "text/plain": [
       "<Response [200]>"
      ]
     },
     "execution_count": 9,
     "metadata": {},
     "output_type": "execute_result"
    }
   ],
   "source": [
    "urlname(\"people\")"
   ]
  },
  {
   "cell_type": "code",
   "execution_count": 14,
   "id": "6bcc1b97",
   "metadata": {},
   "outputs": [],
   "source": [
    "def json(url) :\n",
    "    json_data = url.json()\n",
    "    return json_data"
   ]
  },
  {
   "cell_type": "code",
   "execution_count": 18,
   "id": "5805cc7e",
   "metadata": {},
   "outputs": [],
   "source": [
    "json(urlname(\"people\"))"
   ]
  },
  {
   "cell_type": "code",
   "execution_count": 19,
   "id": "83dd349a",
   "metadata": {},
   "outputs": [],
   "source": [
    "def todataframe(json_data):\n",
    "    pd_data = pd.DataFrame(json_data)\n",
    "    return pd_data"
   ]
  },
  {
   "cell_type": "code",
   "execution_count": 20,
   "id": "e8e9d87f",
   "metadata": {},
   "outputs": [
    {
     "data": {
      "text/html": [
       "<div>\n",
       "<style scoped>\n",
       "    .dataframe tbody tr th:only-of-type {\n",
       "        vertical-align: middle;\n",
       "    }\n",
       "\n",
       "    .dataframe tbody tr th {\n",
       "        vertical-align: top;\n",
       "    }\n",
       "\n",
       "    .dataframe thead th {\n",
       "        text-align: right;\n",
       "    }\n",
       "</style>\n",
       "<table border=\"1\" class=\"dataframe\">\n",
       "  <thead>\n",
       "    <tr style=\"text-align: right;\">\n",
       "      <th></th>\n",
       "      <th>count</th>\n",
       "      <th>next</th>\n",
       "      <th>previous</th>\n",
       "      <th>results</th>\n",
       "    </tr>\n",
       "  </thead>\n",
       "  <tbody>\n",
       "    <tr>\n",
       "      <th>0</th>\n",
       "      <td>82</td>\n",
       "      <td>https://swapi.dev/api/people/?page=2</td>\n",
       "      <td>None</td>\n",
       "      <td>{'name': 'Luke Skywalker', 'height': '172', 'm...</td>\n",
       "    </tr>\n",
       "    <tr>\n",
       "      <th>1</th>\n",
       "      <td>82</td>\n",
       "      <td>https://swapi.dev/api/people/?page=2</td>\n",
       "      <td>None</td>\n",
       "      <td>{'name': 'C-3PO', 'height': '167', 'mass': '75...</td>\n",
       "    </tr>\n",
       "    <tr>\n",
       "      <th>2</th>\n",
       "      <td>82</td>\n",
       "      <td>https://swapi.dev/api/people/?page=2</td>\n",
       "      <td>None</td>\n",
       "      <td>{'name': 'R2-D2', 'height': '96', 'mass': '32'...</td>\n",
       "    </tr>\n",
       "    <tr>\n",
       "      <th>3</th>\n",
       "      <td>82</td>\n",
       "      <td>https://swapi.dev/api/people/?page=2</td>\n",
       "      <td>None</td>\n",
       "      <td>{'name': 'Darth Vader', 'height': '202', 'mass...</td>\n",
       "    </tr>\n",
       "    <tr>\n",
       "      <th>4</th>\n",
       "      <td>82</td>\n",
       "      <td>https://swapi.dev/api/people/?page=2</td>\n",
       "      <td>None</td>\n",
       "      <td>{'name': 'Leia Organa', 'height': '150', 'mass...</td>\n",
       "    </tr>\n",
       "    <tr>\n",
       "      <th>5</th>\n",
       "      <td>82</td>\n",
       "      <td>https://swapi.dev/api/people/?page=2</td>\n",
       "      <td>None</td>\n",
       "      <td>{'name': 'Owen Lars', 'height': '178', 'mass':...</td>\n",
       "    </tr>\n",
       "    <tr>\n",
       "      <th>6</th>\n",
       "      <td>82</td>\n",
       "      <td>https://swapi.dev/api/people/?page=2</td>\n",
       "      <td>None</td>\n",
       "      <td>{'name': 'Beru Whitesun lars', 'height': '165'...</td>\n",
       "    </tr>\n",
       "    <tr>\n",
       "      <th>7</th>\n",
       "      <td>82</td>\n",
       "      <td>https://swapi.dev/api/people/?page=2</td>\n",
       "      <td>None</td>\n",
       "      <td>{'name': 'R5-D4', 'height': '97', 'mass': '32'...</td>\n",
       "    </tr>\n",
       "    <tr>\n",
       "      <th>8</th>\n",
       "      <td>82</td>\n",
       "      <td>https://swapi.dev/api/people/?page=2</td>\n",
       "      <td>None</td>\n",
       "      <td>{'name': 'Biggs Darklighter', 'height': '183',...</td>\n",
       "    </tr>\n",
       "    <tr>\n",
       "      <th>9</th>\n",
       "      <td>82</td>\n",
       "      <td>https://swapi.dev/api/people/?page=2</td>\n",
       "      <td>None</td>\n",
       "      <td>{'name': 'Obi-Wan Kenobi', 'height': '182', 'm...</td>\n",
       "    </tr>\n",
       "  </tbody>\n",
       "</table>\n",
       "</div>"
      ],
      "text/plain": [
       "   count                                  next previous  \\\n",
       "0     82  https://swapi.dev/api/people/?page=2     None   \n",
       "1     82  https://swapi.dev/api/people/?page=2     None   \n",
       "2     82  https://swapi.dev/api/people/?page=2     None   \n",
       "3     82  https://swapi.dev/api/people/?page=2     None   \n",
       "4     82  https://swapi.dev/api/people/?page=2     None   \n",
       "5     82  https://swapi.dev/api/people/?page=2     None   \n",
       "6     82  https://swapi.dev/api/people/?page=2     None   \n",
       "7     82  https://swapi.dev/api/people/?page=2     None   \n",
       "8     82  https://swapi.dev/api/people/?page=2     None   \n",
       "9     82  https://swapi.dev/api/people/?page=2     None   \n",
       "\n",
       "                                             results  \n",
       "0  {'name': 'Luke Skywalker', 'height': '172', 'm...  \n",
       "1  {'name': 'C-3PO', 'height': '167', 'mass': '75...  \n",
       "2  {'name': 'R2-D2', 'height': '96', 'mass': '32'...  \n",
       "3  {'name': 'Darth Vader', 'height': '202', 'mass...  \n",
       "4  {'name': 'Leia Organa', 'height': '150', 'mass...  \n",
       "5  {'name': 'Owen Lars', 'height': '178', 'mass':...  \n",
       "6  {'name': 'Beru Whitesun lars', 'height': '165'...  \n",
       "7  {'name': 'R5-D4', 'height': '97', 'mass': '32'...  \n",
       "8  {'name': 'Biggs Darklighter', 'height': '183',...  \n",
       "9  {'name': 'Obi-Wan Kenobi', 'height': '182', 'm...  "
      ]
     },
     "execution_count": 20,
     "metadata": {},
     "output_type": "execute_result"
    }
   ],
   "source": [
    "todataframe(json(urlname(\"people\")))"
   ]
  },
  {
   "cell_type": "code",
   "execution_count": null,
   "id": "39585330",
   "metadata": {},
   "outputs": [],
   "source": []
  }
 ],
 "metadata": {
  "kernelspec": {
   "display_name": "Python 3 (ipykernel)",
   "language": "python",
   "name": "python3"
  },
  "language_info": {
   "codemirror_mode": {
    "name": "ipython",
    "version": 3
   },
   "file_extension": ".py",
   "mimetype": "text/x-python",
   "name": "python",
   "nbconvert_exporter": "python",
   "pygments_lexer": "ipython3",
   "version": "3.8.12"
  },
  "toc": {
   "base_numbering": 1,
   "nav_menu": {},
   "number_sections": true,
   "sideBar": true,
   "skip_h1_title": false,
   "title_cell": "Table of Contents",
   "title_sidebar": "Contents",
   "toc_cell": false,
   "toc_position": {},
   "toc_section_display": true,
   "toc_window_display": false
  }
 },
 "nbformat": 4,
 "nbformat_minor": 5
}
